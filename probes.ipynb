{
 "cells": [
  {
   "cell_type": "code",
   "execution_count": 1,
   "id": "dc22a440-6382-4764-82b4-bc3e84900342",
   "metadata": {},
   "outputs": [],
   "source": [
    "from dataloader import *\n",
    "import cv2\n",
    "import numpy as np\n",
    "import matplotlib.pyplot as plt\n",
    "import math\n",
    "import cv2 as cv # so annoying in tutorials ngl"
   ]
  },
  {
   "cell_type": "code",
   "execution_count": 2,
   "id": "207a34d3-ceb0-4b82-9a3b-2482c1838449",
   "metadata": {},
   "outputs": [],
   "source": [
    "files = DataAnuncis('/home/adri/Desktop/cvc/data/tinder-historic/filenames.txt')\n"
   ]
  },
  {
   "cell_type": "code",
   "execution_count": 61,
   "id": "0e517a64-37be-4e2b-a286-5115b8a6e845",
   "metadata": {},
   "outputs": [],
   "source": [
    "sample = files[2]"
   ]
  },
  {
   "cell_type": "code",
   "execution_count": 62,
   "id": "f70a44ed-9765-4b28-a72f-8314e73f948c",
   "metadata": {},
   "outputs": [],
   "source": [
    "plt.imshow(sample, cmap = 'gray')\n",
    "plt.show()"
   ]
  },
  {
   "cell_type": "code",
   "execution_count": 63,
   "id": "96385af8-f8cd-4d2a-8b1c-1878f058a64c",
   "metadata": {},
   "outputs": [],
   "source": [
    "ret, thresh = cv2.threshold(sample, 0, 255, cv2.THRESH_OTSU | cv2.THRESH_BINARY_INV)\n"
   ]
  },
  {
   "cell_type": "code",
   "execution_count": 64,
   "id": "fdff0533-f3a3-4911-9de9-8d177872af40",
   "metadata": {},
   "outputs": [],
   "source": [
    "plt.imshow(thresh, cmap = 'gray')\n",
    "plt.show()"
   ]
  },
  {
   "cell_type": "code",
   "execution_count": 65,
   "id": "29b4c22f-6e74-422d-832c-3f06981503fb",
   "metadata": {},
   "outputs": [],
   "source": [
    "cols = thresh.shape[1]\n",
    "horizontal_size = cols // 30\n",
    "horizontalStructure = cv2.getStructuringElement(cv2.MORPH_RECT, (horizontal_size, 1))\n",
    "horizontal = cv2.erode(thresh, horizontalStructure)\n",
    "horizontal = cv2.dilate(horizontal, horizontalStructure)"
   ]
  },
  {
   "cell_type": "code",
   "execution_count": 66,
   "id": "0037a89b-9e93-4c6e-9de9-6dc50dc296ac",
   "metadata": {},
   "outputs": [],
   "source": [
    "# Specify size on vertical axis\n",
    "rows = thresh.shape[0]\n",
    "verticalsize = rows // 30\n",
    "# Create structure element for extracting vertical lines through morphology operations\n",
    "verticalStructure = cv2.getStructuringElement(cv2.MORPH_RECT, (1, verticalsize))\n",
    "# Apply morphology operations\n",
    "vertical = cv2.erode(thresh, verticalStructure)\n",
    "vertical = cv2.dilate(vertical, verticalStructure)"
   ]
  },
  {
   "cell_type": "code",
   "execution_count": 67,
   "id": "1dee281e-8dd9-4764-8698-a6ffcfd85006",
   "metadata": {},
   "outputs": [],
   "source": [
    "%matplotlib qt\n",
    "plt.imshow(vertical*.5 + horizontal*.5, cmap = 'gray')\n",
    "plt.show()"
   ]
  },
  {
   "cell_type": "code",
   "execution_count": 68,
   "id": "68530dc9-cbce-45da-b618-d99542830abd",
   "metadata": {},
   "outputs": [],
   "source": [
    "anuncis = vertical*.5 + horizontal*.5 # What will we do when the blocks arent delimited by lines\n",
    "anuncis = ((anuncis - anuncis.min()) / (anuncis.max() - anuncis.min())) * 255\n",
    "ret, anuncis = cv2.threshold(anuncis.astype(np.uint8), 0, 255, cv2.THRESH_OTSU | cv2.THRESH_BINARY_INV)\n",
    "plt.imshow(anuncis, cmap = 'gray')\n",
    "plt.show()"
   ]
  },
  {
   "cell_type": "code",
   "execution_count": null,
   "id": "8d8ba188-25b9-4d8c-9d21-9d13bde0ba85",
   "metadata": {},
   "outputs": [],
   "source": []
  },
  {
   "cell_type": "code",
   "execution_count": 91,
   "id": "4b81347f-44b6-48f2-afca-4566b8858b92",
   "metadata": {},
   "outputs": [],
   "source": [
    "anuncis = ~ anuncis\n",
    "plt.imshow(anuncis, cmap = 'gray')\n",
    "plt.axis('off')\n",
    "plt.show()\n"
   ]
  },
  {
   "cell_type": "code",
   "execution_count": 70,
   "id": "fb379592-f3a8-4411-a189-2607bc97b908",
   "metadata": {},
   "outputs": [],
   "source": [
    "lines = cv.HoughLinesP(anuncis, 1, np.pi / 180, 150, 10, None)"
   ]
  },
  {
   "cell_type": "code",
   "execution_count": 71,
   "id": "922d61c3-253c-4995-b7c3-8ac33242a933",
   "metadata": {},
   "outputs": [],
   "source": [
    "src = np.zeros_like(sample)\n",
    "for i in range(0, len(lines)):\n",
    "    l = lines[i][0]\n",
    "    src = cv.line(src, (l[0], l[1]), (l[2], l[3]), (155,155,255), 3, cv.LINE_AA)"
   ]
  },
  {
   "cell_type": "code",
   "execution_count": 72,
   "id": "d74bd054-c37a-4d8d-812c-4ddfa614f0cf",
   "metadata": {},
   "outputs": [],
   "source": [
    "plt.imshow(src, cmap = 'gray')\n",
    "plt.axis('off')\n",
    "plt.show()"
   ]
  },
  {
   "cell_type": "code",
   "execution_count": 73,
   "id": "5f8f060a-8874-48f5-8aeb-e674347acf56",
   "metadata": {},
   "outputs": [
    {
     "name": "stdout",
     "output_type": "stream",
     "text": [
      "398\n"
     ]
    }
   ],
   "source": [
    "contours, hierarchy = cv2.findContours(anuncis, cv2.RETR_TREE, cv2.CHAIN_APPROX_SIMPLE)\n",
    "print(len(contours))"
   ]
  },
  {
   "cell_type": "code",
   "execution_count": null,
   "id": "3aeb26c8-b62c-4cde-b6e3-ecc560696e5b",
   "metadata": {},
   "outputs": [],
   "source": []
  },
  {
   "cell_type": "code",
   "execution_count": 87,
   "id": "21e2f451-d8dc-41da-9ab0-fd3c0f758f78",
   "metadata": {},
   "outputs": [],
   "source": [
    "sample2 = np.zeros_like(sample.copy())\n",
    "for cnt in contours:\n",
    "    x, y, w, h = cv2.boundingRect(cnt)\n",
    "    # Drawing a rectangle on copied image\n",
    "    sample2 = cv2.rectangle(sample2, (x, y), (x + w, y + h), (255, 255, 255), 2)"
   ]
  },
  {
   "cell_type": "code",
   "execution_count": 89,
   "id": "4bf631bc-3cd9-404b-ab66-73767b3347b2",
   "metadata": {},
   "outputs": [],
   "source": [
    "plt.imshow(sample2*0.8 + sample*0.2, cmap = 'gray')\n",
    "plt.show()"
   ]
  },
  {
   "cell_type": "code",
   "execution_count": 97,
   "id": "fc015587-bad9-4f36-8d05-0c2f030da926",
   "metadata": {},
   "outputs": [],
   "source": [
    "dilation = cv2.dilate(anuncis,np.ones((3, 3)),iterations = 10)"
   ]
  },
  {
   "cell_type": "code",
   "execution_count": 99,
   "id": "5ac90db2-ca5d-4d0f-8844-4ebd2603cee7",
   "metadata": {},
   "outputs": [],
   "source": [
    "plt.imshow(~dilation, cmap = 'gray')\n",
    "plt.show()"
   ]
  },
  {
   "cell_type": "code",
   "execution_count": 100,
   "id": "0f58bdd6-662a-4067-b001-d3d0fc2767df",
   "metadata": {},
   "outputs": [
    {
     "name": "stdout",
     "output_type": "stream",
     "text": [
      "99\n"
     ]
    }
   ],
   "source": [
    "contours, hierarchy = cv2.findContours(dilation, cv2.RETR_TREE, cv2.CHAIN_APPROX_SIMPLE)\n",
    "print(len(contours))"
   ]
  },
  {
   "cell_type": "code",
   "execution_count": 101,
   "id": "a37dcceb-5d70-4c0a-934b-c837507f5cda",
   "metadata": {},
   "outputs": [],
   "source": [
    "sample2 = np.zeros_like(sample.copy())\n",
    "for cnt in contours:\n",
    "    x, y, w, h = cv2.boundingRect(cnt)\n",
    "    # Drawing a rectangle on copied image\n",
    "    sample2 = cv2.rectangle(sample2, (x, y), (x + w, y + h), (255, 255, 255), 2)"
   ]
  },
  {
   "cell_type": "code",
   "execution_count": 103,
   "id": "a5f6e92d-142c-452c-95e6-382531cc9dd6",
   "metadata": {},
   "outputs": [],
   "source": [
    "plt.imshow(sample2*0.8 + sample*0.2, cmap = 'gray')\n",
    "plt.axis('off')\n",
    "plt.show()"
   ]
  },
  {
   "cell_type": "code",
   "execution_count": null,
   "id": "e7696b96-4e94-4e40-bb98-eb7e7ea96aea",
   "metadata": {},
   "outputs": [],
   "source": []
  }
 ],
 "metadata": {
  "kernelspec": {
   "display_name": "Python 3 (ipykernel)",
   "language": "python",
   "name": "python3"
  },
  "language_info": {
   "codemirror_mode": {
    "name": "ipython",
    "version": 3
   },
   "file_extension": ".py",
   "mimetype": "text/x-python",
   "name": "python",
   "nbconvert_exporter": "python",
   "pygments_lexer": "ipython3",
   "version": "3.9.7"
  }
 },
 "nbformat": 4,
 "nbformat_minor": 5
}
